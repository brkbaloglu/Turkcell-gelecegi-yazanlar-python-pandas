{
 "cells": [
  {
   "cell_type": "markdown",
   "id": "68cc7938-3772-400b-b23d-138a7abb2894",
   "metadata": {},
   "source": [
    "# Pandas Serisi Oluşturmak"
   ]
  },
  {
   "cell_type": "code",
   "execution_count": 1,
   "id": "26cac61f-0de5-4f69-9731-85f1be0792de",
   "metadata": {},
   "outputs": [],
   "source": [
    "import pandas as pd"
   ]
  },
  {
   "cell_type": "code",
   "execution_count": 2,
   "id": "f08545eb-a09e-4f3d-b284-bbcee7dfcc62",
   "metadata": {},
   "outputs": [
    {
     "data": {
      "text/plain": [
       "0    1\n",
       "1    2\n",
       "2    3\n",
       "3    4\n",
       "4    5\n",
       "dtype: int64"
      ]
     },
     "execution_count": 2,
     "metadata": {},
     "output_type": "execute_result"
    }
   ],
   "source": [
    "pd.Series([1,2,3,4,5])"
   ]
  },
  {
   "cell_type": "code",
   "execution_count": 3,
   "id": "e3c57ea2-0b7d-4154-a818-c5a5493ca8d3",
   "metadata": {},
   "outputs": [],
   "source": [
    "seri = pd.Series([10,88,3,4,5])"
   ]
  },
  {
   "cell_type": "code",
   "execution_count": 4,
   "id": "ef77fcb6-4b8d-4ebc-af86-066f977fce39",
   "metadata": {},
   "outputs": [
    {
     "data": {
      "text/plain": [
       "pandas.core.series.Series"
      ]
     },
     "execution_count": 4,
     "metadata": {},
     "output_type": "execute_result"
    }
   ],
   "source": [
    "type(seri)"
   ]
  },
  {
   "cell_type": "code",
   "execution_count": 5,
   "id": "48f8881c-f209-4ae3-b938-578a6e97c9ef",
   "metadata": {},
   "outputs": [
    {
     "data": {
      "text/plain": [
       "[RangeIndex(start=0, stop=5, step=1)]"
      ]
     },
     "execution_count": 5,
     "metadata": {},
     "output_type": "execute_result"
    }
   ],
   "source": [
    "seri.axes"
   ]
  },
  {
   "cell_type": "code",
   "execution_count": 6,
   "id": "ce98908c-fdb3-4cf8-a3da-6dc3918de0f3",
   "metadata": {},
   "outputs": [
    {
     "data": {
      "text/plain": [
       "dtype('int64')"
      ]
     },
     "execution_count": 6,
     "metadata": {},
     "output_type": "execute_result"
    }
   ],
   "source": [
    "seri.dtype"
   ]
  },
  {
   "cell_type": "code",
   "execution_count": 7,
   "id": "99445b24-3092-427b-bcdf-6aae25dc60fa",
   "metadata": {},
   "outputs": [
    {
     "data": {
      "text/plain": [
       "5"
      ]
     },
     "execution_count": 7,
     "metadata": {},
     "output_type": "execute_result"
    }
   ],
   "source": [
    "seri.size"
   ]
  },
  {
   "cell_type": "code",
   "execution_count": 8,
   "id": "0c0d19c4-6ed3-414e-9f59-6e6981e0c52f",
   "metadata": {},
   "outputs": [
    {
     "data": {
      "text/plain": [
       "1"
      ]
     },
     "execution_count": 8,
     "metadata": {},
     "output_type": "execute_result"
    }
   ],
   "source": [
    "seri.ndim"
   ]
  },
  {
   "cell_type": "code",
   "execution_count": 9,
   "id": "841f51e0-6cc0-4e0d-bbcb-4dc535368d54",
   "metadata": {},
   "outputs": [
    {
     "data": {
      "text/plain": [
       "array([10, 88,  3,  4,  5], dtype=int64)"
      ]
     },
     "execution_count": 9,
     "metadata": {},
     "output_type": "execute_result"
    }
   ],
   "source": [
    "seri.values"
   ]
  },
  {
   "cell_type": "code",
   "execution_count": 10,
   "id": "7f22371b-4719-4ab5-bce3-8099715ff413",
   "metadata": {},
   "outputs": [
    {
     "data": {
      "text/plain": [
       "0    10\n",
       "1    88\n",
       "2     3\n",
       "dtype: int64"
      ]
     },
     "execution_count": 10,
     "metadata": {},
     "output_type": "execute_result"
    }
   ],
   "source": [
    "seri.head(3)"
   ]
  },
  {
   "cell_type": "code",
   "execution_count": 11,
   "id": "599f2408-25cb-4fee-9df8-7752a4a2b75b",
   "metadata": {},
   "outputs": [
    {
     "data": {
      "text/plain": [
       "2    3\n",
       "3    4\n",
       "4    5\n",
       "dtype: int64"
      ]
     },
     "execution_count": 11,
     "metadata": {},
     "output_type": "execute_result"
    }
   ],
   "source": [
    "seri.tail(3)"
   ]
  },
  {
   "cell_type": "code",
   "execution_count": 12,
   "id": "022bb63c-207f-48d9-a937-c5c51789612a",
   "metadata": {},
   "outputs": [],
   "source": [
    "# index isimlendirmesi"
   ]
  },
  {
   "cell_type": "code",
   "execution_count": 13,
   "id": "73a27b13-3a4b-4b23-ad86-104e3ddbb427",
   "metadata": {},
   "outputs": [
    {
     "data": {
      "text/plain": [
       "0     99\n",
       "1     22\n",
       "2    332\n",
       "3     94\n",
       "4      5\n",
       "dtype: int64"
      ]
     },
     "execution_count": 13,
     "metadata": {},
     "output_type": "execute_result"
    }
   ],
   "source": [
    "pd.Series([99,22,332,94,5])"
   ]
  },
  {
   "cell_type": "code",
   "execution_count": 14,
   "id": "18e80a1c-b529-4115-97a3-3cd4b58422d3",
   "metadata": {},
   "outputs": [
    {
     "data": {
      "text/plain": [
       "1     99\n",
       "3     22\n",
       "5    332\n",
       "7     94\n",
       "9      5\n",
       "dtype: int64"
      ]
     },
     "execution_count": 14,
     "metadata": {},
     "output_type": "execute_result"
    }
   ],
   "source": [
    "pd.Series([99,22,332,94,5], index = [1,3,5,7,9])"
   ]
  },
  {
   "cell_type": "code",
   "execution_count": 15,
   "id": "a2f77ec3-367b-4408-aba8-0ca30811528c",
   "metadata": {},
   "outputs": [
    {
     "data": {
      "text/plain": [
       "a     99\n",
       "b     22\n",
       "c    332\n",
       "d     94\n",
       "e      5\n",
       "dtype: int64"
      ]
     },
     "execution_count": 15,
     "metadata": {},
     "output_type": "execute_result"
    }
   ],
   "source": [
    "pd.Series([99,22,332,94,5], index = [\"a\",\"b\",\"c\",\"d\",\"e\"])"
   ]
  },
  {
   "cell_type": "code",
   "execution_count": 21,
   "id": "a56280fe-4a90-42a3-ab0f-f1e026edb6af",
   "metadata": {},
   "outputs": [],
   "source": [
    "seri = pd.Series([99,22,332,94,5], index = [\"a\",\"b\",\"c\",\"d\",\"e\"])"
   ]
  },
  {
   "cell_type": "code",
   "execution_count": 22,
   "id": "6cfb236c-e698-43c7-873a-b544fde1734f",
   "metadata": {},
   "outputs": [
    {
     "data": {
      "text/plain": [
       "99"
      ]
     },
     "execution_count": 22,
     "metadata": {},
     "output_type": "execute_result"
    }
   ],
   "source": [
    "seri[\"a\"]"
   ]
  },
  {
   "cell_type": "code",
   "execution_count": 23,
   "id": "55583ec7-80aa-4789-8c3d-23a8d8df2ff2",
   "metadata": {},
   "outputs": [
    {
     "data": {
      "text/plain": [
       "a     99\n",
       "b     22\n",
       "c    332\n",
       "dtype: int64"
      ]
     },
     "execution_count": 23,
     "metadata": {},
     "output_type": "execute_result"
    }
   ],
   "source": [
    "seri[\"a\":\"c\"]"
   ]
  },
  {
   "cell_type": "code",
   "execution_count": 24,
   "id": "887165b7-c7ee-4d5c-8dc2-f1f11a7f4cc0",
   "metadata": {},
   "outputs": [],
   "source": [
    "# sozluk üzerinden liste oluşturmak"
   ]
  },
  {
   "cell_type": "code",
   "execution_count": 25,
   "id": "a678eb37-3bc3-4edb-8d0a-cf3740d3ec2a",
   "metadata": {},
   "outputs": [],
   "source": [
    "sozluk = pd.Series({\"reg\" : 10, \"log\":11, \"cart\": 12})"
   ]
  },
  {
   "cell_type": "code",
   "execution_count": 26,
   "id": "697365cf-7a35-404e-a78e-c011b8453036",
   "metadata": {},
   "outputs": [
    {
     "data": {
      "text/plain": [
       "reg     10\n",
       "log     11\n",
       "cart    12\n",
       "dtype: int64"
      ]
     },
     "execution_count": 26,
     "metadata": {},
     "output_type": "execute_result"
    }
   ],
   "source": [
    "sozluk"
   ]
  },
  {
   "cell_type": "code",
   "execution_count": 27,
   "id": "65aee63f-c934-4f40-b72f-b1b25f8d8f19",
   "metadata": {},
   "outputs": [],
   "source": [
    "sozluk = {\"reg\" : 10, \"log\":11, \"cart\": 12}"
   ]
  },
  {
   "cell_type": "code",
   "execution_count": 28,
   "id": "8cba6a74-1174-49bb-9c56-ad89f8782f93",
   "metadata": {},
   "outputs": [],
   "source": [
    "seri = pd.Series(sozluk)"
   ]
  },
  {
   "cell_type": "code",
   "execution_count": 29,
   "id": "73a0e54e-e36d-4836-a267-80aac871b1d8",
   "metadata": {},
   "outputs": [
    {
     "data": {
      "text/plain": [
       "reg     10\n",
       "log     11\n",
       "cart    12\n",
       "dtype: int64"
      ]
     },
     "execution_count": 29,
     "metadata": {},
     "output_type": "execute_result"
    }
   ],
   "source": [
    "seri"
   ]
  },
  {
   "cell_type": "code",
   "execution_count": 30,
   "id": "8898691c-cf72-460a-9faa-b65eaa7c8d7f",
   "metadata": {},
   "outputs": [],
   "source": [
    "# iki seriyi birleştirerek seri oluşturma"
   ]
  },
  {
   "cell_type": "code",
   "execution_count": 31,
   "id": "a006393f-5f40-4b4f-931d-5f5ae1d5d208",
   "metadata": {},
   "outputs": [
    {
     "data": {
      "text/plain": [
       "reg     10\n",
       "log     11\n",
       "cart    12\n",
       "reg     10\n",
       "log     11\n",
       "cart    12\n",
       "dtype: int64"
      ]
     },
     "execution_count": 31,
     "metadata": {},
     "output_type": "execute_result"
    }
   ],
   "source": [
    "pd.concat([seri, seri])"
   ]
  },
  {
   "cell_type": "code",
   "execution_count": null,
   "id": "68a2f4cc-05d7-4881-b389-81fcea108441",
   "metadata": {},
   "outputs": [],
   "source": []
  }
 ],
 "metadata": {
  "kernelspec": {
   "display_name": "Python 3 (ipykernel)",
   "language": "python",
   "name": "python3"
  },
  "language_info": {
   "codemirror_mode": {
    "name": "ipython",
    "version": 3
   },
   "file_extension": ".py",
   "mimetype": "text/x-python",
   "name": "python",
   "nbconvert_exporter": "python",
   "pygments_lexer": "ipython3",
   "version": "3.10.9"
  }
 },
 "nbformat": 4,
 "nbformat_minor": 5
}
